{
 "cells": [
  {
   "cell_type": "code",
   "execution_count": 8,
   "id": "c07e2e31",
   "metadata": {},
   "outputs": [],
   "source": [
    "import torch\n",
    "import numpy as np\n",
    "import pandas as pd\n",
    "import os\n",
    "import struct\n",
    "from torch import nn\n",
    "from torch.utils.data import DataLoader, TensorDataset\n",
    "from torchvision import transforms\n",
    "import matplotlib.pyplot as plt"
   ]
  },
  {
   "cell_type": "code",
   "execution_count": 9,
   "id": "b9ff825c",
   "metadata": {},
   "outputs": [],
   "source": [
    "class FCNN(nn.Module):\n",
    "    def __init__(self):\n",
    "        super(FCNN, self).__init__()\n",
    "        self.layer1 = nn.Linear(28*28, 128)\n",
    "        self.layer2 = nn.Linear(128, 256)\n",
    "        self.output_layer = nn.Linear(256, 10)\n",
    "\n",
    "    def forward(self, x):\n",
    "        x = x.view(-1, 28*28)\n",
    "        x = torch.relu(self.layer1(x))\n",
    "        x = torch.relu(self.layer2(x))\n",
    "        x = self.output_layer(x)\n",
    "        return x"
   ]
  },
  {
   "cell_type": "code",
   "execution_count": 10,
   "id": "7d295509",
   "metadata": {},
   "outputs": [],
   "source": [
    "train = pd.read_csv(\"train.csv\")\n",
    "test = pd.read_csv(\"test.csv\")"
   ]
  },
  {
   "cell_type": "code",
   "execution_count": 11,
   "id": "8806d534",
   "metadata": {},
   "outputs": [],
   "source": [
    "Y_train = train[\"label\"].values\n",
    "X_train = train.drop(labels=[\"label\"], axis=1).values\n",
    "Y_test = test[\"label\"].values\n",
    "X_test = test.drop(labels=[\"label\"], axis=1).values\n",
    "X_train = X_train / 255.0\n",
    "X_test = X_test / 255.0"
   ]
  },
  {
   "cell_type": "code",
   "execution_count": 12,
   "id": "c00a2982",
   "metadata": {},
   "outputs": [],
   "source": [
    "X_train_tensor = torch.Tensor(X_train).view(-1, 1, 28, 28)\n",
    "X_test_tensor = torch.Tensor(X_test).view(-1, 1, 28, 28)\n",
    "Y_train_tensor = torch.LongTensor(Y_train)\n",
    "Y_test_tensor = torch.LongTensor(Y_test)"
   ]
  },
  {
   "cell_type": "code",
   "execution_count": 13,
   "id": "aed7530e",
   "metadata": {},
   "outputs": [],
   "source": [
    "train_dataset = TensorDataset(X_train_tensor, Y_train_tensor)\n",
    "test_dataset = TensorDataset(X_test_tensor, Y_test_tensor)\n",
    "train_loader = DataLoader(train_dataset, batch_size=64, shuffle=True)\n",
    "test_loader = DataLoader(test_dataset, batch_size=64, shuffle=False)"
   ]
  },
  {
   "cell_type": "code",
   "execution_count": 14,
   "id": "b7cca9a3",
   "metadata": {},
   "outputs": [],
   "source": [
    "model = FCNN()\n",
    "loss_function = nn.CrossEntropyLoss()\n",
    "optimizer = torch.optim.Adam(model.parameters(), lr=0.001)"
   ]
  },
  {
   "cell_type": "code",
   "execution_count": 15,
   "id": "add1e7a3",
   "metadata": {},
   "outputs": [
    {
     "name": "stdout",
     "output_type": "stream",
     "text": [
      "Epoch 1/20, Loss: 0.28677971307426564, Accuracy: 91.7%\n",
      "Epoch 2/20, Loss: 0.11050571557154247, Accuracy: 96.67333333333333%\n",
      "Epoch 3/20, Loss: 0.07658815298026908, Accuracy: 97.56666666666666%\n",
      "Epoch 4/20, Loss: 0.057462847541157866, Accuracy: 98.175%\n",
      "Epoch 5/20, Loss: 0.043954348234685144, Accuracy: 98.51333333333334%\n",
      "Epoch 6/20, Loss: 0.035644828701510464, Accuracy: 98.855%\n",
      "Epoch 7/20, Loss: 0.028228036298449815, Accuracy: 99.09%\n",
      "Epoch 8/20, Loss: 0.02601788686748819, Accuracy: 99.11166666666666%\n",
      "Epoch 9/20, Loss: 0.02038170077242678, Accuracy: 99.32666666666667%\n",
      "Epoch 10/20, Loss: 0.01826158350718918, Accuracy: 99.36666666666666%\n",
      "Epoch 11/20, Loss: 0.015293135778820351, Accuracy: 99.48%\n",
      "Epoch 12/20, Loss: 0.015247180712116448, Accuracy: 99.46333333333334%\n",
      "Epoch 13/20, Loss: 0.014386835229869206, Accuracy: 99.52666666666667%\n",
      "Epoch 14/20, Loss: 0.011554227489404939, Accuracy: 99.62%\n",
      "Epoch 15/20, Loss: 0.0131199369468131, Accuracy: 99.54166666666667%\n",
      "Epoch 16/20, Loss: 0.012489415770870158, Accuracy: 99.615%\n",
      "Epoch 17/20, Loss: 0.008307341648404774, Accuracy: 99.71333333333334%\n",
      "Epoch 18/20, Loss: 0.008112700468580264, Accuracy: 99.745%\n",
      "Epoch 19/20, Loss: 0.011551401867356, Accuracy: 99.61333333333333%\n",
      "Epoch 20/20, Loss: 0.007264231580738667, Accuracy: 99.74666666666667%\n"
     ]
    },
    {
     "data": {
      "image/png": "[encoded data removed]",
      "text/plain": [
       "<Figure size 864x288 with 2 Axes>"
      ]
     },
     "metadata": {
      "needs_background": "light"
     },
     "output_type": "display_data"
    }
   ],
   "source": [
    "import matplotlib.pyplot as plt\n",
    "\n",
    "num_epochs = 20\n",
    "train_losses = []\n",
    "train_accuracies = []\n",
    "\n",
    "for epoch in range(num_epochs):\n",
    "    model.train()\n",
    "    running_loss = 0.0\n",
    "    correct = 0\n",
    "    total = 0\n",
    "    \n",
    "    for images, labels in train_loader:\n",
    "        optimizer.zero_grad()\n",
    "        outputs = model(images)\n",
    "        loss = loss_function(outputs, labels)\n",
    "        loss.backward()\n",
    "        optimizer.step()\n",
    "        \n",
    "        running_loss += loss.item()\n",
    "        _, predicted = torch.max(outputs.data, 1)\n",
    "        total += labels.size(0)\n",
    "        correct += (predicted == labels).sum().item()\n",
    "    \n",
    "    epoch_loss = running_loss / len(train_loader)\n",
    "    epoch_accuracy = 100 * correct / total\n",
    "    \n",
    "    train_losses.append(epoch_loss)\n",
    "    train_accuracies.append(epoch_accuracy)\n",
    "    \n",
    "    print(f'Epoch {epoch+1}/{num_epochs}, Loss: {epoch_loss}, Accuracy: {epoch_accuracy}%')\n",
    "\n",
    "# 绘制训练损失\n",
    "plt.figure(figsize=(12, 4))\n",
    "plt.subplot(1, 2, 1)\n",
    "plt.plot(range(1, num_epochs+1), train_losses, label='Train Loss')\n",
    "plt.xlabel('Epoch')\n",
    "plt.ylabel('Loss')\n",
    "plt.title('Epoch vs Loss')\n",
    "plt.legend()\n",
    "\n",
    "# 绘制训练准确率\n",
    "plt.subplot(1, 2, 2)\n",
    "plt.plot(range(1, num_epochs+1), train_accuracies, label='Train Accuracy', color='red')\n",
    "plt.xlabel('Epoch')\n",
    "plt.ylabel('Accuracy')\n",
    "plt.title('Epoch vs Accuracy')\n",
    "plt.legend()\n",
    "\n",
    "plt.show()\n"
   ]
  },
  {
   "cell_type": "code",
   "execution_count": 20,
   "id": "f3f98184",
   "metadata": {},
   "outputs": [
    {
     "name": "stdout",
     "output_type": "stream",
     "text": [
      "Epoch 1/10, Loss: 0.010799678790961402, Accuracy: 0.9975\n",
      "Epoch 2/10, Loss: 0.006650195909501728, Accuracy: 0.9979166666666667\n",
      "Epoch 3/10, Loss: 0.007566203114288376, Accuracy: 0.9957333333333334\n",
      "Epoch 4/10, Loss: 0.009141639819865391, Accuracy: 0.9986833333333334\n",
      "Epoch 5/10, Loss: 0.007833118835692963, Accuracy: 0.9975833333333334\n",
      "Epoch 6/10, Loss: 0.006260787476786484, Accuracy: 0.9971\n",
      "Epoch 7/10, Loss: 0.006090993919044264, Accuracy: 0.9961833333333333\n",
      "Epoch 8/10, Loss: 0.009522707662587442, Accuracy: 0.99875\n",
      "Epoch 9/10, Loss: 0.005273386395698307, Accuracy: 0.9983166666666666\n",
      "Epoch 10/10, Loss: 0.007759804771695992, Accuracy: 0.9967\n"
     ]
    }
   ],
   "source": [
    "def compute_metrics(true_labels, predicted_labels):\n",
    "    # 转换为NumPy数组以便计算\n",
    "    true_labels = np.array(true_labels)\n",
    "    predicted_labels = np.array(predicted_labels)\n",
    "    \n",
    "    # 计算准确率\n",
    "    accuracy = np.sum(predicted_labels == true_labels) / len(true_labels)\n",
    "    \n",
    "    return accuracy\n",
    "num_epochs = 10  # 根据需要调整\n",
    "for epoch in range(num_epochs):\n",
    "    model.train()  # Set model to training mode\n",
    "    running_loss = 0.0\n",
    "    \n",
    "    for images, labels in train_loader:\n",
    "        optimizer.zero_grad()\n",
    "        outputs = model(images)\n",
    "        loss = loss_function(outputs, labels)        \n",
    "        loss.backward()\n",
    "        optimizer.step()        \n",
    "        running_loss += loss.item()\n",
    "    \n",
    "    # 在训练结束后评估准确率\n",
    "    model.eval()\n",
    "    all_preds = []\n",
    "    all_labels = []\n",
    "    with torch.no_grad():\n",
    "        for images, labels in train_loader:\n",
    "            outputs = model(images)\n",
    "            _, preds = torch.max(outputs, 1)\n",
    "            all_preds.extend(preds.cpu().numpy())\n",
    "            all_labels.extend(labels.cpu().numpy())\n",
    "    \n",
    "    accuracy = compute_metrics(all_labels, all_preds)\n",
    "    print(f'Epoch {epoch+1}/{num_epochs}, Loss: {running_loss / len(train_loader)}, Accuracy: {accuracy}')\n"
   ]
  },
  {
   "cell_type": "code",
   "execution_count": 21,
   "id": "22d95863",
   "metadata": {},
   "outputs": [
    {
     "name": "stdout",
     "output_type": "stream",
     "text": [
      "Accuracy: 97.99%\n"
     ]
    }
   ],
   "source": [
    "model.eval()\n",
    "correct = 0\n",
    "total = 0\n",
    "with torch.no_grad():\n",
    "    for images, labels in test_loader:\n",
    "        outputs = model(images)\n",
    "        _, predicted = torch.max(outputs.data, 1)\n",
    "        total += labels.size(0)\n",
    "        correct += (predicted == labels).sum().item()\n",
    "\n",
    "print(f'Accuracy: {100 * correct / total}%')"
   ]
  },
  {
   "cell_type": "code",
   "execution_count": null,
   "id": "aebd06d7",
   "metadata": {},
   "outputs": [],
   "source": []
  }
 ],
 "metadata": {
  "kernelspec": {
   "display_name": "Python 3 (ipykernel)",
   "language": "python",
   "name": "python3"
  },
  "language_info": {
   "codemirror_mode": {
    "name": "ipython",
    "version": 3
   },
   "file_extension": ".py",
   "mimetype": "text/x-python",
   "name": "python",
   "nbconvert_exporter": "python",
   "pygments_lexer": "ipython3",
   "version": "3.8.12"
  }
 },
 "nbformat": 4,
 "nbformat_minor": 5
}
