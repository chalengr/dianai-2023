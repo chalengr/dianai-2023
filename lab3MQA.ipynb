{
 "cells": [
  {
   "cell_type": "code",
   "execution_count": 2,
   "id": "a3d0ecf1",
   "metadata": {},
   "outputs": [],
   "source": [
    "import torch\n",
    "import torch.nn as nn\n",
    "import torch.nn.functional as F\n",
    "import math\n",
    "\n",
    "class MultiQueryAttention(nn.Module):\n",
    "    def __init__(self, embed_size, heads):\n",
    "        super(MultiQueryAttention, self).__init__()\n",
    "        self.embed_size = embed_size\n",
    "        self.heads = heads\n",
    "        self.head_dim = embed_size // heads\n",
    "        assert self.head_dim * heads == embed_size, \"Embedding size must be divisible by heads.\"\n",
    "\n",
    "        # 为每个头生成独立的查询，但键和值共享\n",
    "        self.query_layers = nn.ModuleList([nn.Linear(self.head_dim, self.head_dim, bias=False) for _ in range(heads)])\n",
    "        self.key = nn.Linear(embed_size, embed_size, bias=False)\n",
    "        self.value = nn.Linear(embed_size, embed_size, bias=False)\n",
    "        self.fc_out = nn.Linear(heads * self.head_dim, embed_size)\n",
    "\n",
    "\n",
    "    def forward(self, value, key, query):\n",
    "        N = query.shape[0]\n",
    "        value_len, key_len, query_len = value.shape[1], key.shape[1], query.shape[1]\n",
    "\n",
    "        # 分割查询维度，以适配多个查询层\n",
    "        queries = query.reshape(N, query_len, self.heads, self.head_dim)\n",
    "\n",
    "        # 为每个头应用独立的查询层\n",
    "        queries = torch.cat([self.query_layers[i](queries[:, :, i, :]).unsqueeze(2) for i in range(self.heads)], dim=2)\n",
    "\n",
    "        # 计算共享的键和值\n",
    "        keys = self.key(key).reshape(N, key_len, self.heads, self.head_dim).permute(0, 2, 1, 3)\n",
    "        values = self.value(value).reshape(N, value_len, self.heads, self.head_dim).permute(0, 2, 1, 3)\n",
    "\n",
    "        # 计算注意力得分\n",
    "        attention_scores = torch.matmul(queries, keys.transpose(-1, -2)) / math.sqrt(self.head_dim)\n",
    "        attention_probs = F.softmax(attention_scores, dim=-1)\n",
    "\n",
    "        # 应用注意力权重到值\n",
    "        context_layer = torch.matmul(attention_probs, values)\n",
    "        context_layer = context_layer.permute(0, 2, 1, 3).contiguous()\n",
    "        new_context_layer_shape = context_layer.size()[:-2] + (self.heads * self.head_dim,)\n",
    "        context_layer = context_layer.view(new_context_layer_shape)\n",
    "\n",
    "        return self.fc_out(context_layer)\n",
    "\n"
   ]
  },
  {
   "cell_type": "code",
   "execution_count": null,
   "id": "23c8d176",
   "metadata": {},
   "outputs": [],
   "source": []
  }
 ],
 "metadata": {
  "kernelspec": {
   "display_name": "Python 3 (ipykernel)",
   "language": "python",
   "name": "python3"
  },
  "language_info": {
   "codemirror_mode": {
    "name": "ipython",
    "version": 3
   },
   "file_extension": ".py",
   "mimetype": "text/x-python",
   "name": "python",
   "nbconvert_exporter": "python",
   "pygments_lexer": "ipython3",
   "version": "3.8.12"
  }
 },
 "nbformat": 4,
 "nbformat_minor": 5
}
