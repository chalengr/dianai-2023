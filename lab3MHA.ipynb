{
 "cells": [
  {
   "cell_type": "code",
   "execution_count": 11,
   "id": "99fb6f1a",
   "metadata": {},
   "outputs": [],
   "source": [
    "import torch\n",
    "from torch import nn\n",
    "import torch.nn.functional as F\n",
    "import matplotlib.pyplot as plt\n",
    "import numpy as np"
   ]
  },
  {
   "cell_type": "code",
   "execution_count": 12,
   "id": "1e7f2be5",
   "metadata": {},
   "outputs": [
    {
     "data": {
      "text/plain": [
       "torch.Size([1, 8, 10, 10])"
      ]
     },
     "execution_count": 12,
     "metadata": {},
     "output_type": "execute_result"
    }
   ],
   "source": [
    "class MultiHeadAttentionModified(torch.nn.Module):\n",
    "    def __init__(self, dim, num_heads):\n",
    "        super().__init__()\n",
    "        self.dim = dim\n",
    "        self.num_heads = num_heads\n",
    "        self.d_key = dim // num_heads #每个头的维度\n",
    "\n",
    "        # 线性层用于生成Q, K, V\n",
    "        self.linear_q = torch.nn.Linear(dim, dim)\n",
    "        self.linear_k = torch.nn.Linear(dim, dim)\n",
    "        self.linear_v = torch.nn.Linear(dim, dim)\n",
    "\n",
    "        # 最后的线性变换\n",
    "        self.final_linear = torch.nn.Linear(dim, dim)\n",
    "\n",
    "    def forward(self, x):\n",
    "        batch_size, seq_length, _ = x.size()\n",
    "\n",
    "        # 生成Q, K, V\n",
    "        Q = self.linear_q(x).view(batch_size, seq_length, self.num_heads, self.d_key)\n",
    "        K = self.linear_k(x).view(batch_size, seq_length, self.num_heads, self.d_key)\n",
    "        V = self.linear_v(x).view(batch_size, seq_length, self.num_heads, self.d_key)\n",
    "\n",
    "        # 转置以匹配形状，以便进行批量点乘\n",
    "        Q, K, V = Q.transpose(1, 2), K.transpose(1, 2), V.transpose(1, 2)\n",
    "\n",
    "        # 计算注意力分数\n",
    "        scores = torch.matmul(Q, K.transpose(-2, -1)) / torch.sqrt(torch.tensor(self.d_key, dtype=torch.float32))\n",
    "        attention_weights = F.softmax(scores, dim=-1)\n",
    "\n",
    "        # 应用注意力权重到V\n",
    "        attention_output = torch.matmul(attention_weights, V)\n",
    "\n",
    "        # 拼接所有头\n",
    "        attention_output = attention_output.transpose(1, 2).contiguous().view(batch_size, seq_length, self.dim)\n",
    "\n",
    "        # 最后的线性变换\n",
    "        output = self.final_linear(attention_output)\n",
    "\n",
    "        return output, attention_weights\n",
    "\n",
    "# 使用新的参数名\n",
    "dim = 512  # 输入维度\n",
    "num_heads = 8  # 多头数量\n",
    "mha_modified = MultiHeadAttentionModified(dim, num_heads)\n",
    "\n",
    "# 随机生成输入数据\n",
    "x = torch.rand(1, 10, dim)  # (batch_size, seq_length, dim)\n",
    "\n",
    "# 计算多头注意力\n",
    "_, attention_weights_modified = mha_modified(x)\n",
    "\n",
    "# 查看注意力权重的形状\n",
    "attention_weights_modified.shape\n",
    "\n"
   ]
  },
  {
   "cell_type": "code",
   "execution_count": 15,
   "id": "ffb291f9",
   "metadata": {},
   "outputs": [
    {
     "data": {
      "image/png": "[encoded data removed]",
      "text/plain": [
       "<Figure size 720x576 with 2 Axes>"
      ]
     },
     "metadata": {
      "needs_background": "light"
     },
     "output_type": "display_data"
    }
   ],
   "source": [
    "# 计算所有头的平均注意力权重\n",
    "average_attention_weights = attention_weights_modified.mean(dim=1).squeeze(0).detach().numpy()\n",
    "\n",
    "# 绘制所有头平均注意力权重的热力图\n",
    "plt.figure(figsize=(10, 8))\n",
    "plt.imshow(average_attention_weights, cmap='viridis', aspect='auto')\n",
    "plt.colorbar()\n",
    "plt.title(\"Average Attention Weights\")\n",
    "plt.xlabel(\"Key Positions\")\n",
    "plt.ylabel(\"Query Positions\")\n",
    "plt.show()\n"
   ]
  },
  {
   "cell_type": "code",
   "execution_count": null,
   "id": "46d4a2ba",
   "metadata": {},
   "outputs": [],
   "source": []
  }
 ],
 "metadata": {
  "kernelspec": {
   "display_name": "Python 3 (ipykernel)",
   "language": "python",
   "name": "python3"
  },
  "language_info": {
   "codemirror_mode": {
    "name": "ipython",
    "version": 3
   },
   "file_extension": ".py",
   "mimetype": "text/x-python",
   "name": "python",
   "nbconvert_exporter": "python",
   "pygments_lexer": "ipython3",
   "version": "3.8.12"
  }
 },
 "nbformat": 4,
 "nbformat_minor": 5
}
